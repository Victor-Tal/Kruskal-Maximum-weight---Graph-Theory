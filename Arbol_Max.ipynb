{
  "nbformat": 4,
  "nbformat_minor": 0,
  "metadata": {
    "colab": {
      "provenance": [],
      "include_colab_link": true
    },
    "kernelspec": {
      "name": "python3",
      "display_name": "Python 3"
    },
    "language_info": {
      "name": "python"
    }
  },
  "cells": [
    {
      "cell_type": "markdown",
      "metadata": {
        "id": "view-in-github",
        "colab_type": "text"
      },
      "source": [
        "<a href=\"https://colab.research.google.com/github/Victor-Tal/Maximum-weight---Graph-Theory/blob/main/Arbol_Max.ipynb\" target=\"_parent\"><img src=\"https://colab.research.google.com/assets/colab-badge.svg\" alt=\"Open In Colab\"/></a>"
      ]
    },
    {
      "cell_type": "code",
      "execution_count": null,
      "metadata": {
        "colab": {
          "base_uri": "https://localhost:8080/"
        },
        "id": "KR_roLzT2j_y",
        "outputId": "e2a5ffc2-9be1-4521-e489-14288e50e466"
      },
      "outputs": [
        {
          "output_type": "stream",
          "name": "stdout",
          "text": [
            "El árbol máximo generador es: [(3, 4, 7.0), (0, 2, 6.0), (0, 1, 5.0), (0, 3, 4.0)]\n"
          ]
        }
      ],
      "source": [
        "###  CORDERO CORREA VICTOR HUGO ###\n",
        "###  ALGORITMO GENERADOR DE ARBOL DE PESO MAXIMO EN GRAFICA PONDERADA algoritmo generador de arbol de peso maximo en grafica ponderada###\n",
        "\n",
        "\n",
        "import numpy as np\n",
        "import math as math\n",
        "inf = math.inf\n",
        "\n",
        "def kruskal_inv(D): \n",
        "  '''\n",
        "  Generador de arbol peso Maximo\n",
        "  \n",
        "  Entradas: D= arreglo de grafica inicial (vértices, aristas y pesos)\n",
        "\n",
        "  Salidas s= arreglo peso maximo (vértices, aristas y pesos) \n",
        "'''\n",
        "  n = len(D)\n",
        "  e = []\n",
        "  c = [-1]*n #Almacena las componentes del árbol Maximo generador, toda arista inicia con etiqueta -1\n",
        "\n",
        "  for i in range(0,n): \n",
        "    for j in range(i+1,n): #Recorrido de la matriz D\n",
        "      if D[i,j] != inf:\n",
        "        e.append(tuple((i,j,D[i,j])))\n",
        "    '''Etapa de Ordenamiento'''\n",
        "  \n",
        "  e.sort(key=lambda x:x[2],reverse=True) \n",
        "  \n",
        "  s= [] #llamado de arreglo vacio para salida\n",
        "  while len(e) > 0: \n",
        "    new = e.pop(0) \n",
        "\n",
        "    #Identificamos de los extremos de la arista \n",
        "    x = new[1] \n",
        "    y= new [1] \n",
        "    if c[x] == c[y] == -1: \n",
        "      c[x] = c[y] = max(x,y) #Cambiamos las etiquetas iniciales de x y y por max(x,y)\n",
        "    elif c[x] == c[y]: #detecta ciclos\n",
        "      continue \n",
        "    elif c[x] == -1 and c[y] != -1: \n",
        "      c[x] = c[y] \n",
        "    elif c[x] != -1 and c[y] == -1: \n",
        "      c[y] = c[x] \n",
        "    elif c[x] != -1 and c[y] != -1:\n",
        "      m = max(c[x],c[y]) #cambia el maximoo para evaluarlo\n",
        "      if c[x] < m: #intercambio de signos para evaluar al mayor\n",
        "        for i in range(0,n):\n",
        "          if c[i] == c[x]:\n",
        "            c[i] = m\n",
        "      if c[y] < m:# intercambia signo para evaluar al mayor\n",
        "        for i in range(0,n):\n",
        "          if c[i] == c[y]:\n",
        "            c[i] = m\n",
        "        c[y]= c[x]= m # \n",
        "    s.append(new) \n",
        "  return s  \n",
        "\n",
        "\n",
        "if __name__ == '__main__':\n",
        "  B = np.array([[0,10,inf,inf,inf,inf,4,inf,inf],\n",
        "                [10,0,1,inf,inf,5,3,inf,inf],\n",
        "                [inf,1,0,6,inf,13,inf,inf,inf],\n",
        "                [inf,inf,6,0,11,8,inf,9,12],\n",
        "                [inf,inf,inf,11,0,2,inf,inf,inf],\n",
        "                [inf,5,13,8,2,0,7,inf,inf],\n",
        "                [4,3,inf,inf,inf,7,0,inf,inf],\n",
        "                [inf,inf,inf,9,inf,inf,inf,0,inf],\n",
        "                [inf,inf,inf,12,inf,inf,inf,inf,0]])\n",
        "  \n",
        "  C = np.array([[inf,5,inf,inf,inf,inf,6,inf,],\n",
        "                [5,inf,5,inf,inf,5,inf,1],\n",
        "                [inf,5,4,inf,4,inf,inf,1],\n",
        "                [inf,inf,4,inf,4,inf,inf,2],\n",
        "                [inf,inf,inf,4,inf,3,inf,2],\n",
        "                [inf,3,inf,inf,3,inf,7,inf],\n",
        "                [6,inf,inf,inf,inf,7,inf,inf],\n",
        "                [inf,1,1,2,2,inf,inf,inf]])\n",
        "  \n",
        "  H = np.array([[0,5,6,4,1],\n",
        "                [5,0,3,inf,inf],\n",
        "                [6,3,0,2,inf],\n",
        "                [4,inf,2,0,7],\n",
        "                [1,inf,inf,7,0]])\n",
        "  \n",
        "  edges = kruskal_inv(H)\n",
        "  print('El árbol máximo generador es:', edges)"
      ]
    },
    {
      "cell_type": "code",
      "source": [
        "help(kruskal_inv)"
      ],
      "metadata": {
        "colab": {
          "base_uri": "https://localhost:8080/"
        },
        "id": "kgnGz1_ex6tl",
        "outputId": "48f33fc5-66e9-4725-dacf-6554f0625484"
      },
      "execution_count": null,
      "outputs": [
        {
          "output_type": "stream",
          "name": "stdout",
          "text": [
            "Help on function kruskal_inv in module __main__:\n",
            "\n",
            "kruskal_inv(D)\n",
            "    Generador de arbol peso Maximo\n",
            "    \n",
            "    Entradas: D= arreglo de grafica inicial (vértices, aristas y pesos)\n",
            "    \n",
            "    Salidas s= arreglo peso maximo (vértices, aristas y pesos)\n",
            "\n"
          ]
        }
      ]
    },
    {
      "cell_type": "code",
      "source": [],
      "metadata": {
        "id": "PN5YklQPyGCT"
      },
      "execution_count": null,
      "outputs": []
    }
  ]
}